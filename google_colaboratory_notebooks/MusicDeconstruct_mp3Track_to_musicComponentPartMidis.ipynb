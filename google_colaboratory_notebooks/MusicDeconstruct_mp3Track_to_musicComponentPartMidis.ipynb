{
  "cells": [
    {
      "cell_type": "markdown",
      "source": [
        "# Title: Music Deconstuctor - mp3 track file to component part midis pipeline\n",
        "# Author: SkYeJustIs\n",
        "# Created: 2023-09"
      ],
      "metadata": {
        "id": "wHXI1t541yxF"
      }
    },
    {
      "cell_type": "markdown",
      "metadata": {
        "id": "HMtLW4I_keOK"
      },
      "source": [
        "***************************************************************\n",
        "\n",
        "🎹 **Purpose**: A tool that allows one to provide mp3 files as input and get midis as output within your Google Drive 🎶\n",
        "\n",
        "***************************************************************\n",
        "\n",
        "*   **Input location**: /gdrive/MyDrive/music_deconstruct/input/\n",
        "      * Put your mp3 track / song files in the above directory\n",
        "          * Note: mp3 file names should have underscores _ instead of spaces\n",
        "*   **Output locations**:\n",
        "      * /gdrive/MyDrive/music_deconstruct/output_midi/\n",
        "          * will contain output midi files of song parts\n",
        "      * /gdrive/MyDrive/music_deconstruct/output/htdemucs/\n",
        "          * will contain output wav files of song parts\n",
        "\n",
        "*  References:\n",
        "    * https://github.com/facebookresearch/demucs\n",
        "    * https://www.audiolabs-erlangen.de/resources/MIR/NMFtoolbox/\n",
        "    * https://github.com/inagoy/drumsep\n",
        "    * https://github.com/facebookresearch/demucs/issues/422\n",
        "\n",
        "\n",
        "\n"
      ]
    },
    {
      "cell_type": "code",
      "execution_count": null,
      "metadata": {
        "id": "CVN1YuiyeNCn"
      },
      "outputs": [],
      "source": [
        "# Install python\n",
        "!apt-get install python3.8\n",
        "!ln -sf /usr/bin/python3.8 /usr/bin/python3\n",
        "!apt install python3.8-distutils\n",
        "!wget https://bootstrap.pypa.io/get-pip.py\n",
        "!python3.8 get-pip.py\n",
        "!python3 --version"
      ]
    },
    {
      "cell_type": "code",
      "execution_count": null,
      "metadata": {
        "id": "hSO3_S-3z4S6"
      },
      "outputs": [],
      "source": [
        "# Install key python packages\n",
        "!python3 -m pip install -U git+https://github.com/facebookresearch/demucs.git@v4.0.0\n",
        "!python3 -m pip install -U git+https://github.com/spotify/basic-pitch.git@v0.2.6"
      ]
    },
    {
      "cell_type": "code",
      "execution_count": null,
      "metadata": {
        "id": "78z0vHZP0AYy"
      },
      "outputs": [],
      "source": [
        "# This will link to your entire drive.\n",
        "from google.colab import drive\n",
        "drive.mount('/gdrive')"
      ]
    },
    {
      "cell_type": "code",
      "execution_count": null,
      "metadata": {
        "id": "Qitzg3LL0IS0"
      },
      "outputs": [],
      "source": [
        "import os\n",
        "\n",
        "os.system('mkdir /gdrive/MyDrive/music_deconstruct/')\n",
        "\n",
        "os.system('mkdir /gdrive/MyDrive/music_deconstruct/modules/')\n",
        "os.system('mkdir /gdrive/MyDrive/music_deconstruct/modules/NMFtoolbox')\n",
        "os.system('mkdir /gdrive/MyDrive/music_deconstruct/data/')\n",
        "\n",
        "os.system('mkdir /gdrive/MyDrive/music_deconstruct/input/')\n",
        "os.system('mkdir /gdrive/MyDrive/music_deconstruct/output/')\n",
        "\n",
        "os.system('mkdir /gdrive/MyDrive/music_deconstruct/output_midi/')\n",
        "\n",
        "os.system('mkdir /gdrive/MyDrive/music_deconstruct/models/')\n",
        "\n",
        "os.system('unzip -o -j /gdrive/MyDrive/NMFtoolbox.zip python/NMFtoolbox/*.py -d /gdrive/MyDrive/music_deconstruct/modules/NMFtoolbox')\n",
        "os.system('unzip -o -j /gdrive/MyDrive/NMFtoolbox.zip data/dictW.mat -d /gdrive/MyDrive/music_deconstruct/data')\n",
        "os.system('touch /gdrive/MyDrive/music_deconstruct/modules/NMFtoolbox/__init__.py')\n",
        "\n",
        "os.system('pip install jupyter')\n",
        "os.system('pip install scipy')\n",
        "os.system('pip install matplotlib')"
      ]
    },
    {
      "cell_type": "code",
      "execution_count": null,
      "metadata": {
        "id": "ba2Gm_V90a2p"
      },
      "outputs": [],
      "source": [
        "os.chdir('/gdrive/MyDrive/music_deconstruct/modules/')\n",
        "\n",
        "# import required packages\n",
        "import os\n",
        "import numpy as np\n",
        "import scipy.io.wavfile as wav\n",
        "import IPython.display as ipd\n",
        "import pathlib\n",
        "\n",
        "from NMFtoolbox.forwardSTFT import forwardSTFT\n",
        "from NMFtoolbox.inverseSTFT import inverseSTFT\n",
        "from NMFtoolbox.initTemplates import initTemplates\n",
        "from NMFtoolbox.initActivations import initActivations\n",
        "from NMFtoolbox.NMFD import NMFD\n",
        "from NMFtoolbox.alphaWienerFilter import alphaWienerFilter\n",
        "from NMFtoolbox.visualizeComponentsNMF import visualizeComponentsNMF\n",
        "from NMFtoolbox.utils import make_monaural, pcmInt16ToFloat32Numpy"
      ]
    },
    {
      "cell_type": "code",
      "execution_count": null,
      "metadata": {
        "id": "Hker3yls0gkw"
      },
      "outputs": [],
      "source": [
        "# Customize the following options!\n",
        "model = \"htdemucs\"\n",
        "extensions = [\"mp3\", \"wav\", \"ogg\", \"flac\"]  # we will look for all those file types.\n",
        "two_stems = None   # only separate one stems from the rest, for instance\n",
        "# two_stems = \"vocals\"\n",
        "\n",
        "# Options for the output audio.\n",
        "mp3 = True\n",
        "mp3 = False\n",
        "mp3_rate = 320\n",
        "float32 = False  # output as float 32 wavs, unsused if 'mp3' is True.\n",
        "int24 = False    # output as int24 wavs, unused if 'mp3' is True.\n",
        "# You cannot set both `float32 = True` and `int24 = True` !!\n",
        "\n",
        "in_path = '/gdrive/MyDrive/music_deconstruct/input/'\n",
        "out_path = '/gdrive/MyDrive/music_deconstruct/output/'"
      ]
    },
    {
      "cell_type": "code",
      "execution_count": null,
      "metadata": {
        "cellView": "form",
        "id": "Or_yIPzX0hNv"
      },
      "outputs": [],
      "source": [
        "#@title DEMUCS - Useful functions, don't forget to execute\n",
        "import io\n",
        "from pathlib import Path\n",
        "import select\n",
        "from shutil import rmtree\n",
        "import subprocess as sp\n",
        "import sys\n",
        "from typing import Dict, Tuple, Optional, IO\n",
        "\n",
        "from google.colab import files\n",
        "\n",
        "def find_files(in_path):\n",
        "    out = []\n",
        "    for file in Path(in_path).iterdir():\n",
        "        if file.suffix.lower().lstrip(\".\") in extensions:\n",
        "            out.append(file)\n",
        "    return out\n",
        "\n",
        "def copy_process_streams(process: sp.Popen):\n",
        "    def raw(stream: Optional[IO[bytes]]) -> IO[bytes]:\n",
        "        assert stream is not None\n",
        "        if isinstance(stream, io.BufferedIOBase):\n",
        "            stream = stream.raw\n",
        "        return stream\n",
        "\n",
        "    p_stdout, p_stderr = raw(process.stdout), raw(process.stderr)\n",
        "    stream_by_fd: Dict[int, Tuple[IO[bytes], io.StringIO, IO[str]]] = {\n",
        "        p_stdout.fileno(): (p_stdout, sys.stdout),\n",
        "        p_stderr.fileno(): (p_stderr, sys.stderr),\n",
        "    }\n",
        "    fds = list(stream_by_fd.keys())\n",
        "\n",
        "    while fds:\n",
        "        # `select` syscall will wait until one of the file descriptors has content.\n",
        "        ready, _, _ = select.select(fds, [], [])\n",
        "        for fd in ready:\n",
        "            p_stream, std = stream_by_fd[fd]\n",
        "            raw_buf = p_stream.read(2 ** 16)\n",
        "            if not raw_buf:\n",
        "                fds.remove(fd)\n",
        "                continue\n",
        "            buf = raw_buf.decode()\n",
        "            std.write(buf)\n",
        "            std.flush()\n",
        "\n",
        "def separate(inp=None, outp=None):\n",
        "    inp = inp or in_path\n",
        "    outp = outp or out_path\n",
        "    cmd = [\"python3\", \"-m\", \"demucs.separate\", \"-o\", str(outp), \"-n\", model]\n",
        "    if mp3:\n",
        "        cmd += [\"--mp3\", f\"--mp3-bitrate={mp3_rate}\"]\n",
        "    if float32:\n",
        "        cmd += [\"--float32\"]\n",
        "    if int24:\n",
        "        cmd += [\"--int24\"]\n",
        "    if two_stems is not None:\n",
        "        cmd += [f\"--two-stems={two_stems}\"]\n",
        "    files = [str(f) for f in find_files(inp)]\n",
        "    if not files:\n",
        "        print(f\"No valid audio files in {in_path}\")\n",
        "        return\n",
        "    print(\"Going to separate the files:\")\n",
        "    print('\\n'.join(files))\n",
        "    print(\"With command: \", \" \".join(cmd))\n",
        "    p = sp.Popen(cmd + files, stdout=sp.PIPE, stderr=sp.PIPE)\n",
        "    copy_process_streams(p)\n",
        "    p.wait()\n",
        "    if p.returncode != 0:\n",
        "        print(\"Command failed, something went wrong.\")\n",
        "\n",
        "\n",
        "def from_upload():\n",
        "    out_path = Path('separated')\n",
        "    in_path = Path('tmp_in')\n",
        "\n",
        "    if in_path.exists():\n",
        "        rmtree(in_path)\n",
        "    in_path.mkdir()\n",
        "\n",
        "    if out_path.exists():\n",
        "        rmtree(out_path)\n",
        "    out_path.mkdir()\n",
        "\n",
        "    uploaded = files.upload()\n",
        "    for name, content in uploaded.items():\n",
        "        (in_path / name).write_bytes(content)\n",
        "    separate(in_path, out_path)\n"
      ]
    },
    {
      "cell_type": "markdown",
      "metadata": {
        "id": "mtdeQgOlva_C"
      },
      "source": [
        "# 🎹 🗣 Separate main music parts (vocals, drums, bass, other, etc.) with DEMUCS"
      ]
    },
    {
      "cell_type": "code",
      "execution_count": null,
      "metadata": {
        "collapsed": true,
        "id": "nJwEQO4t00g-"
      },
      "outputs": [],
      "source": [
        "# DEMUCS separate\n",
        "separate()"
      ]
    },
    {
      "cell_type": "code",
      "execution_count": null,
      "metadata": {
        "cellView": "form",
        "id": "DB7UOycX6Jub"
      },
      "outputs": [],
      "source": [
        "# @title NMF - Useful functions, don't forget to execute\n",
        "def get_nmf_drum_parts( song_file_path, drum_file_name):\n",
        "  fs, x = wav.read(os.path.join(song_file_path,'drums.wav'))\n",
        "  # make monaural if necessary\n",
        "  x = make_monaural(x)\n",
        "\n",
        "  x = pcmInt16ToFloat32Numpy(x)\n",
        "\n",
        "  # spectral parameters\n",
        "  paramSTFT = dict()\n",
        "  paramSTFT['blockSize'] = 2048\n",
        "  paramSTFT['hopSize'] = 512\n",
        "  paramSTFT['winFunc'] = np.hanning(paramSTFT['blockSize'])\n",
        "  paramSTFT['reconstMirror'] = True\n",
        "  paramSTFT['appendFrame'] = True\n",
        "  paramSTFT['numSamples'] = len(x)\n",
        "\n",
        "  # STFT computation\n",
        "  X, A, P = forwardSTFT(x, paramSTFT)\n",
        "\n",
        "  # get dimensions and time and frequency resolutions\n",
        "  numBins, numFrames = X.shape\n",
        "  deltaT = paramSTFT['hopSize'] / fs\n",
        "  deltaF = fs / paramSTFT['blockSize']\n",
        "  # define drum onset times and instrument types (1: kick, 2: snare, 3: hihat)\n",
        "  # in this example, there are 28 kick hits, 12 snare hits, and 48 hihat hits\n",
        "  drumTypes = np.hstack((1.0*np.ones(28,),2.0*np.ones(12),3.0*np.ones(48,)))\n",
        "  # and these are the onset times in seconds\n",
        "  drumOnsets = 0.001+np.array([0.005079365, 1.422222222, 1.583492063, 1.964444444, 2.745396825, 3.135238095, 4.519365079, 4.698412698,\n",
        "  5.102222222, 6.265396825, 7.688888889, 7.847619048, 8.238730159, 9.022222222, 9.412063492, 10.840634921, 10.995555556,\n",
        "  11.381587302, 12.172698413, 12.579047619, 14.010158730, 14.158730159, 14.556190476, 15.347301587, 15.737142857, 17.121088435,\n",
        "  17.274920635, 17.677460317,\n",
        "  0.809795918, 2.353922902, 3.921269841, 5.503129252, 7.058866213, 8.617505669, 10.205170068, 11.769614512,\n",
        "  13.368888889, 14.944943311, 16.523900227, 18.076734694,\n",
        "  0.006100000, 0.383129252, 0.806893424, 1.184217687, 1.596371882, 1.979501134, 2.359727891, 2.742857143,\n",
        "  3.140498866, 3.506213152, 3.921269841, 4.324716553, 4.703854875, 5.117460317, 5.503854875, 5.882993197,\n",
        "  6.291156463, 6.672108844, 7.062131519, 7.453968254, 7.851247166, 8.239455782, 8.622222222, 9.024943311,\n",
        "  9.418594104, 9.804988662, 10.211337868, 10.601360544, 10.998639456, 11.386848073, 11.769614512, 12.166893424,\n",
        "  12.575056689, 12.965079365, 13.373242630, 13.765079365, 14.155102041, 14.556009070, 14.944217687, 15.341496599,\n",
        "  15.747845805, 16.114285714, 16.529705215, 16.914285714, 17.286167800, 17.679818594, 18.080725624, 18.467120181])\n",
        "\n",
        "  # set common parameters\n",
        "  numComp = 3    # how many drum instruments we want to extract\n",
        "  numIter = 20\n",
        "  numTemplateFrames = 8\n",
        "\n",
        "  # generate initial guess for templates\n",
        "  paramTemplates = dict()\n",
        "  paramTemplates['deltaF'] = deltaF\n",
        "  paramTemplates['numComp'] = numComp\n",
        "  paramTemplates['numBins'] = numBins\n",
        "  paramTemplates['numTemplateFrames'] = numTemplateFrames\n",
        "  initW = initTemplates(paramTemplates,'drums')\n",
        "\n",
        "  # generate initial activations\n",
        "  paramActivations = dict()\n",
        "  paramActivations['numComp'] = numComp\n",
        "  paramActivations['numFrames'] = numFrames\n",
        "\n",
        "  # generate score-informed activations for the drum part\n",
        "  paramActivations['deltaT'] = deltaT;\n",
        "  paramActivations['drums'] = drumTypes\n",
        "  paramActivations['onsets'] = drumOnsets\n",
        "  paramActivations['decay'] = 0.65\n",
        "  initH = initActivations(paramActivations,'drums')\n",
        "\n",
        "  # if no transcription is available, set this to random\n",
        "  #initH = initActivations(paramActivations,'random')\n",
        "\n",
        "  # NMFD parameters\n",
        "  paramNMFD = dict()\n",
        "  paramNMFD['numComp'] = numComp\n",
        "  paramNMFD['numFrames'] = numFrames\n",
        "  paramNMFD['numIter'] = numIter\n",
        "  paramNMFD['numTemplateFrames'] = numTemplateFrames\n",
        "  paramNMFD['initW'] = initW\n",
        "  paramNMFD['initH'] = initH\n",
        "\n",
        "  # NMFD core method\n",
        "  nmfdW, nmfdH, nmfdV, divKL, _ = NMFD(A, paramNMFD)\n",
        "\n",
        "  # alpha-Wiener filtering\n",
        "  nmfdA, _ = alphaWienerFilter(A, nmfdV, 1.0)\n",
        "\n",
        "\n",
        "  # visualize the results of the drum separation\n",
        "  paramVis = dict()\n",
        "  paramVis['deltaT'] = deltaT\n",
        "  paramVis['deltaF'] = deltaF\n",
        "  paramVis['endeSec'] = 6.675\n",
        "  paramVis['fontSize'] = 14\n",
        "  fh1, _ = visualizeComponentsNMF(A, nmfdW, nmfdH, nmfdA, paramVis)\n",
        "\n",
        "  audios = []\n",
        "  drum_names = ['kick','snare','hihat']\n",
        "\n",
        "  # resynthesize into individual stems for each drum instrument\n",
        "  for k in range(numComp):\n",
        "      # plug-in original phase\n",
        "      Y = nmfdA[k] * np.exp(1j * P);\n",
        "      y, _ = inverseSTFT(Y, paramSTFT)\n",
        "      # store for playback inside notebook\n",
        "      audios.append(y)\n",
        "      # save result\n",
        "      out_filepath = os.path.join(song_file_path,'drums_' + drum_names[k] + '.wav')\n",
        "      wav.write(filename=out_filepath, rate=fs, data=y)\n"
      ]
    },
    {
      "cell_type": "code",
      "execution_count": null,
      "metadata": {
        "id": "byp0HMUI1pcc"
      },
      "outputs": [],
      "source": [
        "root_output = os.path.join('/gdrive/MyDrive/music_deconstruct/output/htdemucs/')\n",
        "\n",
        "song_file_paths = list()\n",
        "for filepath in pathlib.Path(root_output).glob('**/*'):\n",
        "  if not str(filepath.absolute()).endswith('.wav'):\n",
        "    song_path = str(filepath.absolute())\n",
        "    print(f\"Song path to process: {song_path}\")\n",
        "    song_file_paths.append(song_path)"
      ]
    },
    {
      "cell_type": "markdown",
      "metadata": {
        "id": "saj1fef6vNTw"
      },
      "source": [
        "# 🥁 Get drum parts (NMF method)"
      ]
    },
    {
      "cell_type": "code",
      "execution_count": null,
      "metadata": {
        "colab": {
          "background_save": true
        },
        "id": "oqWXG9Qa5BS4"
      },
      "outputs": [],
      "source": [
        "for song_file_path in song_file_paths:\n",
        "  get_nmf_drum_parts(song_file_path, 'drums.wav')"
      ]
    },
    {
      "cell_type": "markdown",
      "metadata": {
        "id": "hGAsTFjfoTl0"
      },
      "source": [
        "************************************************************************"
      ]
    },
    {
      "cell_type": "markdown",
      "metadata": {
        "id": "0zpH2tm2v53f"
      },
      "source": [
        "## 🥁 (OPTIONAL) Get drum parts via inagoy's trained model"
      ]
    },
    {
      "cell_type": "markdown",
      "metadata": {
        "id": "2fZgBm4Jnxkt"
      },
      "source": [
        "###  Manually put the model from here into the folder: /gdrive/MyDrive/music_deconstruct/models\n",
        "* Download the model from here: https://drive.google.com/file/d/1mbhHbP47fWXC4gnqAJVCezgxmh-h5uVr/view\n",
        "* Credit: https://github.com/inagoy/drumsep"
      ]
    },
    {
      "cell_type": "code",
      "execution_count": null,
      "metadata": {
        "id": "zTp3w7HfDaI6"
      },
      "outputs": [],
      "source": [
        "for song_file_path in song_file_paths:\n",
        "  os.system(f\"demucs --repo '/gdrive/MyDrive/music_deconstruct/models/' -n modelo_final -o '{song_file_path}' '{song_file_path}/drums.wav'\")\n",
        "  os.system(f\"mv {song_file_path}/modelo_final/drums/bombo.wav {song_file_path}/modelo_final/drums/inagoy_kick.wav\")\n",
        "  os.system(f\"mv {song_file_path}/modelo_final/drums/redoblante.wav {song_file_path}/modelo_final/drums/inagoy_snare.wav\")\n",
        "  os.system(f\"mv {song_file_path}/modelo_final/drums/platillos.wav {song_file_path}/modelo_final/drums/inagoy_cymbals.wav\")\n"
      ]
    },
    {
      "cell_type": "markdown",
      "metadata": {
        "id": "R9XHL4EboM96"
      },
      "source": [
        "************************************************************************"
      ]
    },
    {
      "cell_type": "markdown",
      "metadata": {
        "id": "qTm9j1y4wiWv"
      },
      "source": [
        "# 📁 Get midi files\n"
      ]
    },
    {
      "cell_type": "code",
      "execution_count": null,
      "metadata": {
        "id": "imvj8q4A6wkY"
      },
      "outputs": [],
      "source": [
        "root_output = os.path.join('/gdrive/MyDrive/music_deconstruct/output/htdemucs/')\n",
        "\n",
        "file_paths = list()\n",
        "print(\"LIST OF FILES TO CONVERT TO MIDI\")\n",
        "for filepath in pathlib.Path(root_output).glob('**/*'):\n",
        "  if str(filepath.absolute()).endswith('.wav'):\n",
        "    path = str(filepath.absolute())\n",
        "    print(path)\n",
        "    file_paths.append(path)\n"
      ]
    },
    {
      "cell_type": "code",
      "execution_count": null,
      "metadata": {
        "id": "U-z0XpUn69pY"
      },
      "outputs": [],
      "source": [
        "# convert step\n",
        "for fl in file_paths:\n",
        "  os.system(f\"mkdir /gdrive/MyDrive/music_deconstruct/output_midi/{fl.split('/')[6]}/\")\n",
        "  os.system(f\"basic-pitch /gdrive/MyDrive/music_deconstruct/output_midi/{fl.split('/')[6]}/ {fl}\")"
      ]
    },
    {
      "cell_type": "markdown",
      "metadata": {
        "id": "VMOHsRRvqQHz"
      },
      "source": [
        "************************************************************************"
      ]
    },
    {
      "cell_type": "markdown",
      "metadata": {
        "id": "kvzSbtoWqRcC"
      },
      "source": [
        "************************************************************************"
      ]
    },
    {
      "cell_type": "markdown",
      "metadata": {
        "id": "Mddx0z9Txf3B"
      },
      "source": [
        "************************************************************************"
      ]
    },
    {
      "cell_type": "markdown",
      "metadata": {
        "id": "7hTl8OkQqggm"
      },
      "source": [
        "### NEXT ⏭ ⏭\n",
        "      * Download folders corresponding to each mp3 track from:\n",
        "        * /gdrive/MyDrive/music_deconstruct/output_midi/\n",
        "        * /gdrive/MyDrive/music_deconstruct/output/htdemucs/\n",
        "      * Delete files before the next run:\n",
        "        * /gdrive/MyDrive/music_deconstruct/input/\n",
        "        * /gdrive/MyDrive/music_deconstruct/output_midi/\n",
        "        * /gdrive/MyDrive/music_deconstruct/output/htdemucs/"
      ]
    },
    {
      "cell_type": "markdown",
      "metadata": {
        "id": "pa1Qdi65yNY1"
      },
      "source": [
        "## Cleanup 🧹\n",
        "## ❗ Do not uncomment and run the following code until you have downloaded the files ❗"
      ]
    },
    {
      "cell_type": "code",
      "execution_count": null,
      "metadata": {
        "id": "Cj6EZFYeqmFA"
      },
      "outputs": [],
      "source": [
        "#os.system(f\"rm -R /gdrive/MyDrive/music_deconstruct/output_midi/\")\n",
        "#os.system(f\"rm -R /gdrive/MyDrive/music_deconstruct/output/\")\n",
        "#os.system(f\"find /gdrive/MyDrive/music_deconstruct/input/ -maxdepth 1 -type f -delete\")"
      ]
    },
    {
      "cell_type": "code",
      "execution_count": null,
      "metadata": {
        "id": "iXX6nX-7t-2H"
      },
      "outputs": [],
      "source": []
    }
  ],
  "metadata": {
    "colab": {
      "provenance": []
    },
    "kernelspec": {
      "display_name": "Python 3",
      "name": "python3"
    },
    "language_info": {
      "name": "python"
    }
  },
  "nbformat": 4,
  "nbformat_minor": 0
}